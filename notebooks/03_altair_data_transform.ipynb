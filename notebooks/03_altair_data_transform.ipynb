{
 "cells": [
  {
   "cell_type": "code",
   "execution_count": 1,
   "id": "023b99b0-ea62-46b7-bfa9-ca0583324f94",
   "metadata": {
    "execution": {
     "iopub.execute_input": "2022-11-29T17:06:49.049772Z",
     "iopub.status.busy": "2022-11-29T17:06:49.049772Z",
     "iopub.status.idle": "2022-11-29T17:06:49.527586Z",
     "shell.execute_reply": "2022-11-29T17:06:49.526591Z",
     "shell.execute_reply.started": "2022-11-29T17:06:49.049772Z"
    },
    "tags": []
   },
   "outputs": [],
   "source": [
    "import pandas as pd\n",
    "import altair as alt\n",
    "from vega_datasets import data\n"
   ]
  },
  {
   "cell_type": "code",
   "execution_count": 4,
   "id": "240bc84c-8d90-4bf3-929b-157f77a05ab1",
   "metadata": {
    "execution": {
     "iopub.execute_input": "2022-11-29T17:07:33.914103Z",
     "iopub.status.busy": "2022-11-29T17:07:33.914103Z",
     "iopub.status.idle": "2022-11-29T17:07:33.935888Z",
     "shell.execute_reply": "2022-11-29T17:07:33.935103Z",
     "shell.execute_reply.started": "2022-11-29T17:07:33.914103Z"
    },
    "tags": []
   },
   "outputs": [
    {
     "data": {
      "text/plain": [
       "'https://cdn.jsdelivr.net/npm/vega-datasets@v1.29.0/data/movies.json'"
      ]
     },
     "execution_count": 4,
     "metadata": {},
     "output_type": "execute_result"
    }
   ],
   "source": [
    "movies_url = data.movies.url\n",
    "movies_url"
   ]
  }
 ],
 "metadata": {
  "kernelspec": {
   "display_name": "Python 3 (ipykernel)",
   "language": "python",
   "name": "python3"
  },
  "language_info": {
   "codemirror_mode": {
    "name": "ipython",
    "version": 3
   },
   "file_extension": ".py",
   "mimetype": "text/x-python",
   "name": "python",
   "nbconvert_exporter": "python",
   "pygments_lexer": "ipython3",
   "version": "3.9.7"
  }
 },
 "nbformat": 4,
 "nbformat_minor": 5
}
