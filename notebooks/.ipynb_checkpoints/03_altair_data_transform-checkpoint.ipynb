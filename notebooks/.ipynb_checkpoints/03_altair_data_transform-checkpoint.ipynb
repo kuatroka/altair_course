{
 "cells": [
  {
   "cell_type": "code",
   "execution_count": 1,
   "id": "023b99b0-ea62-46b7-bfa9-ca0583324f94",
   "metadata": {
    "execution": {
     "iopub.execute_input": "2022-11-29T16:48:52.330114Z",
     "iopub.status.busy": "2022-11-29T16:48:52.330114Z",
     "iopub.status.idle": "2022-11-29T16:48:52.826731Z",
     "shell.execute_reply": "2022-11-29T16:48:52.825974Z",
     "shell.execute_reply.started": "2022-11-29T16:48:52.330114Z"
    },
    "tags": []
   },
   "outputs": [],
   "source": [
    "import pandas as pd\n",
    "import altair as alt\n",
    "from vega_datasets import data\n"
   ]
  },
  {
   "cell_type": "code",
   "execution_count": null,
   "id": "240bc84c-8d90-4bf3-929b-157f77a05ab1",
   "metadata": {},
   "outputs": [],
   "source": [
    "movies_url = data.movies\n",
    "# movies_url"
   ]
  },
  {
   "cell_type": "code",
   "execution_count": 9,
   "id": "446da4e8-d830-4155-9499-5ed786d7d751",
   "metadata": {
    "execution": {
     "iopub.execute_input": "2022-11-29T16:43:34.789532Z",
     "iopub.status.busy": "2022-11-29T16:43:34.789532Z",
     "iopub.status.idle": "2022-11-29T16:43:34.809508Z",
     "shell.execute_reply": "2022-11-29T16:43:34.808506Z",
     "shell.execute_reply.started": "2022-11-29T16:43:34.789532Z"
    },
    "tags": []
   },
   "outputs": [
    {
     "ename": "NameError",
     "evalue": "name 'ipython_version' is not defined",
     "output_type": "error",
     "traceback": [
      "\u001b[1;31m---------------------------------------------------------------------------\u001b[0m",
      "\u001b[1;31mNameError\u001b[0m                                 Traceback (most recent call last)",
      "Input \u001b[1;32mIn [9]\u001b[0m, in \u001b[0;36m<cell line: 1>\u001b[1;34m()\u001b[0m\n\u001b[1;32m----> 1\u001b[0m \u001b[43mipython_version\u001b[49m()\n",
      "\u001b[1;31mNameError\u001b[0m: name 'ipython_version' is not defined"
     ]
    }
   ],
   "source": [
    "ipython_version()"
   ]
  }
 ],
 "metadata": {
  "kernelspec": {
   "display_name": "Python 3 (ipykernel)",
   "language": "python",
   "name": "python3"
  },
  "language_info": {
   "codemirror_mode": {
    "name": "ipython",
    "version": 3
   },
   "file_extension": ".py",
   "mimetype": "text/x-python",
   "name": "python",
   "nbconvert_exporter": "python",
   "pygments_lexer": "ipython3",
   "version": "3.9.7"
  }
 },
 "nbformat": 4,
 "nbformat_minor": 5
}
